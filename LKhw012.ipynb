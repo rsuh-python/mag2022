{
 "cells": [
  {
   "cell_type": "markdown",
   "id": "44d89619-7257-407b-af38-3d1a2230a76d",
   "metadata": {},
   "source": [
    "#### Задача 1. \n",
    "\n",
    "Дано трехзначное число. Найдите сумму его цифр."
   ]
  },
  {
   "cell_type": "code",
   "execution_count": null,
   "id": "bbdd572d-f43b-4e12-b32a-ff10c92f448c",
   "metadata": {},
   "outputs": [],
   "source": [
    "# your code herethreenumber = int(input(\"Введите трехзначное число: \"))\n",
    "hundred = threenumber // 100\n",
    "hunone = hundred * 100\n",
    "dozen = (threenumber - hunone) // 10\n",
    "dozone = dozen * 10\n",
    "unit = threenumber - hunone - dozone\n",
    "print(\"Сумма цифр:\", hundred + dozen + unit)"
   ]
  },
  {
   "cell_type": "markdown",
   "id": "2622f3fc-a9cb-4392-99ae-a31dff5674b4",
   "metadata": {},
   "source": [
    "#### Задача 2.\n",
    "\n",
    "Процентная ставка по вкладу составляет P процентов годовых, которые прибавляются к сумме вклада. Вклад составляет X рублей Y копеек. Определите размер вклада через год.\n",
    "Программа получает на вход целые числа P, X, Y и должна вывести два числа: величину вклада через год в рублях и копейках. Дробная часть копеек отбрасывается."
   ]
  },
  {
   "cell_type": "code",
   "execution_count": null,
   "id": "22ad3819-b3a6-4046-b3e9-fe1b8373a956",
   "metadata": {},
   "outputs": [],
   "source": [
    "X = int(input(\"Рубли - Х: \"))\n",
    "Y = int(input(\"Копейки - Y: \"))\n",
    "P = int(input(\"Процент годовых - Р: \"))\n",
    "rubli = X + X / 100 * P\n",
    "kopeiki = int(Y + Y / 100 * P)\n",
    "totalrub = int(kopeiki / 100 + rubli)\n",
    "totalkop = int((kopeiki / 100 + rubli - totalrub) * 100)\n",
    "print(\"Итого рублей:\", totalrub, \"Итого копеек:\", totalkop)"
   ]
  },
  {
   "cell_type": "markdown",
   "id": "a86607c1-be2d-42ec-bf21-f09d7a65295f",
   "metadata": {
    "tags": []
   },
   "source": [
    "#### Задача 3.\n",
    "\n",
    "В первый день спортсмен пробежал x километров, а затем он каждый день увеличивал пробег на 70% от предыдущего значения. По данному числу y определите номер дня, на который пробег спортсмена составит не менее y километров.\n",
    "\n",
    "На вход программа получает два числа x и y. Числа положительные, действительные, не превосходят 1000.\n",
    "\n",
    "Программа должна вывести единственное целое число.\n",
    "\n",
    "Для проверки:\n",
    "\n",
    "|Ввод|Вывод|\n",
    "|:-:|:-:|\n",
    "|10 30|4|"
   ]
  },
  {
   "cell_type": "code",
   "execution_count": null,
   "id": "1442849d-88e0-4687-9d90-06a7df5a7a2e",
   "metadata": {},
   "outputs": [],
   "source": [
    "x = int(input('Километров в первый день: '))\n",
    "y = int(input('Километров в конечный день: '))\n",
    "#DAY1 = x\n",
    "#DAY2 = 1.7 * x\n",
    "#DAY3 = 1.7 ** 2 * x\n",
    "import math\n",
    "DAY = int(math.log(y / x, 1.7) + 2)\n",
    "\n",
    "if x >= 1000 or y >= 1000:\n",
    "  print(\"Error: more than 1000\")\n",
    "else: print(DAY)"
   ]
  },
  {
   "cell_type": "markdown",
   "id": "f4d2ecff-c586-4592-8913-370a80fe69cf",
   "metadata": {},
   "source": [
    "#### Задача 4. \n",
    "\n",
    "В первый день спортсмент пробежал x километров, а затем он каждый день увеличивал пробег на 70% от предыдущего значения.\n",
    "\n",
    "По данному числу y определите номер дня, на который суммарный пробег спортсмена составит не менее y километров.\n",
    "\n",
    "На вход программа получает два числа x и y. Числа положительные, действительные, не превосходят 1000.\n",
    "\n",
    "Программа должна вывести единственное целое число.\n",
    "\n",
    "Для проверки:\n",
    "\n",
    "|Ввод|Вывод|\n",
    "|:-:|:-:|\n",
    "|10 100|4|"
   ]
  },
  {
   "cell_type": "code",
   "execution_count": null,
   "id": "1a2c7d87-c45c-4e70-ac1a-2d312ee6f6e7",
   "metadata": {},
   "outputs": [],
   "source": []
  },
  {
   "cell_type": "markdown",
   "id": "b5c60b82-4650-43a6-849f-5d3dfa824eef",
   "metadata": {},
   "source": [
    "#### Задача 5.\n",
    "\n",
    "Числа Фибоначчи (простые). Вводится целое число: с помощью формулы выведите число Фибоначчи с этим номером. "
   ]
  },
  {
   "cell_type": "code",
   "execution_count": null,
   "id": "8d9bdcf8-208c-402d-b66e-1912dda40716",
   "metadata": {},
   "outputs": [],
   "source": [
    "nuone = 1\n",
    "nutwo = nuone\n",
    "chisloN = int(input(\"Введите номер числа: \"))\n",
    "for n in range(int(chisloN-2)):\n",
    "    nunext = nuone + nutwo\n",
    "    nuone = nutwo\n",
    "    nutwo = nunext\n",
    "print(\"Искомое число: \")"
   ]
  },
  {
   "cell_type": "markdown",
   "id": "c7894552-3463-4643-af27-7de4e8a5a327",
   "metadata": {},
   "source": [
    "#### Задача 6.\n",
    "\n",
    "Напишите программу, которая на вход принимает число секунд и возвращает его в часах, минутах и секундах в формате HH:MM:SS. "
   ]
  },
  {
   "cell_type": "code",
   "execution_count": null,
   "id": "98ff7e6b-5672-4ca6-8aa5-5333b555258b",
   "metadata": {},
   "outputs": [],
   "source": [
    "totalsec = int(input('Количество секунд: '))\n",
    "hours = int(totalsec / 60 ** 2)\n",
    "minutes = int((totalsec - hours * 60 ** 2) / 60)\n",
    "seconds = int(totalsec - hours * 60 ** 2 - minutes * 60)\n",
    "\n",
    "hourind = hours > 23\n",
    "if hourind:\n",
    "  ind1 = hours / 24\n",
    "  hourf = hours - (24 * int(ind1))\n",
    "else: hourf = hours\n",
    "\n",
    "houLESS10 = hourf < 10\n",
    "if houLESS10:\n",
    "  hourf = f'0{hourf}'\n",
    "\n",
    "minLESS10 = minutes < 10\n",
    "if minLESS10:\n",
    "  minutes = f'0{minutes}'\n",
    "\n",
    "secLESS10 = seconds < 10\n",
    "if secLESS10:\n",
    "  seconds = f'0{seconds}'\n",
    "\n",
    "print(hourf, minutes, seconds, sep = ':')"
   ]
  },
  {
   "cell_type": "markdown",
   "id": "81d0f22d-f06d-4168-8b86-a13dc17c05ae",
   "metadata": {},
   "source": [
    "Для чтения:\n",
    "\n",
    "1. [М. Саммерфилд](https://drive.google.com/file/d/1VXoXN5Cl2GxfgYkuKFzVFRwltQnPGYol/view?usp=sharing). 2 глава, до строк. \n",
    "2. [М. Лутц](https://drive.google.com/file/d/1oTnJq_jl7QEe1AQVBirJr2Oen_XQxS59/view?usp=sharing). 1 часть. \n",
    "3. [Мануал по Github](https://github.com/rsuh-python/mag2022/blob/main/Github_Manual.pdf). \n",
    "\n",
    "Также можно дополнительно на Википедии почитать про машинный ноль, про хэш-функции и хэш-таблицы (это для общего развития). "
   ]
  }
 ],
 "metadata": {
  "kernelspec": {
   "display_name": "mlearn",
   "language": "python",
   "name": "mlearn"
  },
  "language_info": {
   "codemirror_mode": {
    "name": "ipython",
    "version": 3
   },
   "file_extension": ".py",
   "mimetype": "text/x-python",
   "name": "python",
   "nbconvert_exporter": "python",
   "pygments_lexer": "ipython3",
   "version": "3.9.12"
  }
 },
 "nbformat": 4,
 "nbformat_minor": 5
}
